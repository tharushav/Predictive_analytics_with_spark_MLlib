{
  "cells": [
    {
      "cell_type": "code",
      "execution_count": 1,
      "metadata": {
        "colab": {
          "base_uri": "https://localhost:8080/"
        },
        "id": "vnXdglY2PVeP",
        "outputId": "b08865d6-9d1b-4a73-9969-ebb87c63bbe3"
      },
      "outputs": [
        {
          "name": "stdout",
          "output_type": "stream",
          "text": [
            "Requirement already satisfied: pyspark in /opt/anaconda3/lib/python3.12/site-packages (3.5.5)\n",
            "Requirement already satisfied: py4j==0.10.9.7 in /opt/anaconda3/lib/python3.12/site-packages (from pyspark) (0.10.9.7)\n"
          ]
        }
      ],
      "source": [
        "!pip install pyspark"
      ]
    },
    {
      "cell_type": "code",
      "execution_count": 2,
      "metadata": {
        "id": "SB53LKA_Qwfs"
      },
      "outputs": [],
      "source": [
        "from pyspark.sql import SparkSession\n",
        "from pyspark.sql.functions import monotonically_increasing_id\n",
        "from pyspark.sql.functions import count\n",
        "from pyspark.sql.functions import col\n",
        "from pyspark.sql.types import IntegerType, FloatType, DoubleType, LongType\n",
        "from pyspark.sql import functions as F\n",
        "from pyspark.ml.feature import StringIndexer\n",
        "from pyspark.ml.feature import StandardScaler\n",
        "from pyspark.ml.feature import VectorAssembler\n",
        "from pyspark.ml.classification import LogisticRegression\n",
        "from pyspark.ml.classification import RandomForestClassifier\n",
        "from pyspark.ml.classification import LinearSVC\n",
        "from pyspark.ml.classification import GBTClassifier\n",
        "from pyspark.ml.evaluation import MulticlassClassificationEvaluator\n",
        "import pandas as pd"
      ]
    },
    {
      "cell_type": "code",
      "execution_count": 3,
      "metadata": {
        "id": "1wZiI8CUPYGF"
      },
      "outputs": [
        {
          "name": "stderr",
          "output_type": "stream",
          "text": [
            "Setting default log level to \"WARN\".\n",
            "To adjust logging level use sc.setLogLevel(newLevel). For SparkR, use setLogLevel(newLevel).\n",
            "25/03/28 13:41:43 WARN NativeCodeLoader: Unable to load native-hadoop library for your platform... using builtin-java classes where applicable\n"
          ]
        }
      ],
      "source": [
        "spark = SparkSession.builder.appName(\"Predictive Analytics with Spark MLlib\").getOrCreate()"
      ]
    },
    {
      "cell_type": "markdown",
      "metadata": {
        "id": "2IyLhAcjvvZ9"
      },
      "source": [
        "# Data loading"
      ]
    },
    {
      "cell_type": "code",
      "execution_count": 4,
      "metadata": {
        "id": "N4oJH7tfPdq6"
      },
      "outputs": [],
      "source": [
        "df = spark.read.format(\"csv\").load(\"adult.csv\", header=True, inferSchema=True)"
      ]
    },
    {
      "cell_type": "code",
      "execution_count": 5,
      "metadata": {
        "colab": {
          "base_uri": "https://localhost:8080/"
        },
        "id": "80C-skgePrMG",
        "outputId": "3eccfff7-9fe0-4f19-b720-3b0cf4ab8e20"
      },
      "outputs": [
        {
          "name": "stdout",
          "output_type": "stream",
          "text": [
            "root\n",
            " |-- age: integer (nullable = true)\n",
            " |-- workclass: string (nullable = true)\n",
            " |-- fnlwgt: integer (nullable = true)\n",
            " |-- education: string (nullable = true)\n",
            " |-- educational-num: integer (nullable = true)\n",
            " |-- marital-status: string (nullable = true)\n",
            " |-- occupation: string (nullable = true)\n",
            " |-- relationship: string (nullable = true)\n",
            " |-- race: string (nullable = true)\n",
            " |-- gender: string (nullable = true)\n",
            " |-- capital-gain: integer (nullable = true)\n",
            " |-- capital-loss: integer (nullable = true)\n",
            " |-- hours-per-week: integer (nullable = true)\n",
            " |-- native-country: string (nullable = true)\n",
            " |-- income: string (nullable = true)\n",
            "\n"
          ]
        }
      ],
      "source": [
        "df.printSchema()"
      ]
    },
    {
      "cell_type": "code",
      "execution_count": 6,
      "metadata": {
        "colab": {
          "base_uri": "https://localhost:8080/"
        },
        "id": "SDvNgi0DPz13",
        "outputId": "924d829b-d44b-45d4-96c9-599f14da20fc"
      },
      "outputs": [
        {
          "name": "stdout",
          "output_type": "stream",
          "text": [
            "+---+----------------+------+------------+---------------+------------------+-----------------+-------------+------------------+------+------------+------------+--------------+--------------+------+\n",
            "|age|       workclass|fnlwgt|   education|educational-num|    marital-status|       occupation| relationship|              race|gender|capital-gain|capital-loss|hours-per-week|native-country|income|\n",
            "+---+----------------+------+------------+---------------+------------------+-----------------+-------------+------------------+------+------------+------------+--------------+--------------+------+\n",
            "| 25|         Private|226802|        11th|              7|     Never-married|Machine-op-inspct|    Own-child|             Black|  Male|           0|           0|            40| United-States| <=50K|\n",
            "| 38|         Private| 89814|     HS-grad|              9|Married-civ-spouse|  Farming-fishing|      Husband|             White|  Male|           0|           0|            50| United-States| <=50K|\n",
            "| 28|       Local-gov|336951|  Assoc-acdm|             12|Married-civ-spouse|  Protective-serv|      Husband|             White|  Male|           0|           0|            40| United-States|  >50K|\n",
            "| 44|         Private|160323|Some-college|             10|Married-civ-spouse|Machine-op-inspct|      Husband|             Black|  Male|        7688|           0|            40| United-States|  >50K|\n",
            "| 18|               ?|103497|Some-college|             10|     Never-married|                ?|    Own-child|             White|Female|           0|           0|            30| United-States| <=50K|\n",
            "| 34|         Private|198693|        10th|              6|     Never-married|    Other-service|Not-in-family|             White|  Male|           0|           0|            30| United-States| <=50K|\n",
            "| 29|               ?|227026|     HS-grad|              9|     Never-married|                ?|    Unmarried|             Black|  Male|           0|           0|            40| United-States| <=50K|\n",
            "| 63|Self-emp-not-inc|104626| Prof-school|             15|Married-civ-spouse|   Prof-specialty|      Husband|             White|  Male|        3103|           0|            32| United-States|  >50K|\n",
            "| 24|         Private|369667|Some-college|             10|     Never-married|    Other-service|    Unmarried|             White|Female|           0|           0|            40| United-States| <=50K|\n",
            "| 55|         Private|104996|     7th-8th|              4|Married-civ-spouse|     Craft-repair|      Husband|             White|  Male|           0|           0|            10| United-States| <=50K|\n",
            "| 65|         Private|184454|     HS-grad|              9|Married-civ-spouse|Machine-op-inspct|      Husband|             White|  Male|        6418|           0|            40| United-States|  >50K|\n",
            "| 36|     Federal-gov|212465|   Bachelors|             13|Married-civ-spouse|     Adm-clerical|      Husband|             White|  Male|           0|           0|            40| United-States| <=50K|\n",
            "| 26|         Private| 82091|     HS-grad|              9|     Never-married|     Adm-clerical|Not-in-family|             White|Female|           0|           0|            39| United-States| <=50K|\n",
            "| 58|               ?|299831|     HS-grad|              9|Married-civ-spouse|                ?|      Husband|             White|  Male|           0|           0|            35| United-States| <=50K|\n",
            "| 48|         Private|279724|     HS-grad|              9|Married-civ-spouse|Machine-op-inspct|      Husband|             White|  Male|        3103|           0|            48| United-States|  >50K|\n",
            "| 43|         Private|346189|     Masters|             14|Married-civ-spouse|  Exec-managerial|      Husband|             White|  Male|           0|           0|            50| United-States|  >50K|\n",
            "| 20|       State-gov|444554|Some-college|             10|     Never-married|    Other-service|    Own-child|             White|  Male|           0|           0|            25| United-States| <=50K|\n",
            "| 43|         Private|128354|     HS-grad|              9|Married-civ-spouse|     Adm-clerical|         Wife|             White|Female|           0|           0|            30| United-States| <=50K|\n",
            "| 37|         Private| 60548|     HS-grad|              9|           Widowed|Machine-op-inspct|    Unmarried|             White|Female|           0|           0|            20| United-States| <=50K|\n",
            "| 40|         Private| 85019|   Doctorate|             16|Married-civ-spouse|   Prof-specialty|      Husband|Asian-Pac-Islander|  Male|           0|           0|            45|             ?|  >50K|\n",
            "+---+----------------+------+------------+---------------+------------------+-----------------+-------------+------------------+------+------------+------------+--------------+--------------+------+\n",
            "only showing top 20 rows\n",
            "\n"
          ]
        }
      ],
      "source": [
        "df.show()"
      ]
    },
    {
      "cell_type": "code",
      "execution_count": 7,
      "metadata": {
        "colab": {
          "base_uri": "https://localhost:8080/"
        },
        "id": "XfXDyoMyQnEM",
        "outputId": "a4be366d-fe2a-413b-ad49-5d4600321b6f"
      },
      "outputs": [
        {
          "name": "stdout",
          "output_type": "stream",
          "text": [
            "+---+---+---------+------+----------+---------------+------------------+-----------------+------------+-----+------+------------+------------+--------------+--------------+------+\n",
            "| id|age|workclass|fnlwgt| education|educational-num|    marital-status|       occupation|relationship| race|gender|capital-gain|capital-loss|hours-per-week|native-country|income|\n",
            "+---+---+---------+------+----------+---------------+------------------+-----------------+------------+-----+------+------------+------------+--------------+--------------+------+\n",
            "|  0| 25|  Private|226802|      11th|              7|     Never-married|Machine-op-inspct|   Own-child|Black|  Male|           0|           0|            40| United-States| <=50K|\n",
            "|  1| 38|  Private| 89814|   HS-grad|              9|Married-civ-spouse|  Farming-fishing|     Husband|White|  Male|           0|           0|            50| United-States| <=50K|\n",
            "|  2| 28|Local-gov|336951|Assoc-acdm|             12|Married-civ-spouse|  Protective-serv|     Husband|White|  Male|           0|           0|            40| United-States|  >50K|\n",
            "+---+---+---------+------+----------+---------------+------------------+-----------------+------------+-----+------+------------+------------+--------------+--------------+------+\n",
            "only showing top 3 rows\n",
            "\n"
          ]
        }
      ],
      "source": [
        "# Set an id column to dataframe\n",
        "df = df.withColumn('id', monotonically_increasing_id())\n",
        "\n",
        "df = df[['id'] + df.columns[:-1]]\n",
        "\n",
        "df.show(3)"
      ]
    },
    {
      "cell_type": "code",
      "execution_count": 8,
      "metadata": {
        "colab": {
          "base_uri": "https://localhost:8080/"
        },
        "id": "WNVvtP5PRRSc",
        "outputId": "e0d5439e-ef25-4f8f-a0f4-565d4ded514e"
      },
      "outputs": [
        {
          "data": {
            "text/plain": [
              "48842"
            ]
          },
          "execution_count": 8,
          "metadata": {},
          "output_type": "execute_result"
        }
      ],
      "source": [
        "df.count()"
      ]
    },
    {
      "cell_type": "markdown",
      "metadata": {
        "id": "COR0dXAmv1gx"
      },
      "source": [
        "# Data cleaning"
      ]
    },
    {
      "cell_type": "code",
      "execution_count": 9,
      "metadata": {
        "colab": {
          "base_uri": "https://localhost:8080/"
        },
        "id": "TYCaQXuCl5Qr",
        "outputId": "82ddbaa1-8daf-48df-8466-d989c37b98a4"
      },
      "outputs": [
        {
          "name": "stdout",
          "output_type": "stream",
          "text": [
            "+---+---+---------+------+---------+---------------+--------------+----------+------------+----+------+------------+------------+--------------+--------------+------+\n",
            "| id|age|workclass|fnlwgt|education|educational-num|marital-status|occupation|relationship|race|gender|capital-gain|capital-loss|hours-per-week|native-country|income|\n",
            "+---+---+---------+------+---------+---------------+--------------+----------+------------+----+------+------------+------------+--------------+--------------+------+\n",
            "|  0|  0|        0|     0|        0|              0|             0|         0|           0|   0|     0|           0|           0|             0|             0|     0|\n",
            "|  0|  0|        0|     0|        0|              0|             0|         0|           0|   0|     0|           0|           0|             0|             0|     0|\n",
            "|  0|  0|        0|     0|        0|              0|             0|         0|           0|   0|     0|           0|           0|             0|             0|     0|\n",
            "|  0|  0|        0|     0|        0|              0|             0|         0|           0|   0|     0|           0|           0|             0|             0|     0|\n",
            "|  0|  0|        0|     0|        0|              0|             0|         0|           0|   0|     0|           0|           0|             0|             0|     0|\n",
            "|  0|  0|        0|     0|        0|              0|             0|         0|           0|   0|     0|           0|           0|             0|             0|     0|\n",
            "|  0|  0|        0|     0|        0|              0|             0|         0|           0|   0|     0|           0|           0|             0|             0|     0|\n",
            "|  0|  0|        0|     0|        0|              0|             0|         0|           0|   0|     0|           0|           0|             0|             0|     0|\n",
            "|  0|  0|        0|     0|        0|              0|             0|         0|           0|   0|     0|           0|           0|             0|             0|     0|\n",
            "|  0|  0|        0|     0|        0|              0|             0|         0|           0|   0|     0|           0|           0|             0|             0|     0|\n",
            "|  0|  0|        0|     0|        0|              0|             0|         0|           0|   0|     0|           0|           0|             0|             0|     0|\n",
            "|  0|  0|        0|     0|        0|              0|             0|         0|           0|   0|     0|           0|           0|             0|             0|     0|\n",
            "|  0|  0|        0|     0|        0|              0|             0|         0|           0|   0|     0|           0|           0|             0|             0|     0|\n",
            "|  0|  0|        0|     0|        0|              0|             0|         0|           0|   0|     0|           0|           0|             0|             0|     0|\n",
            "|  0|  0|        0|     0|        0|              0|             0|         0|           0|   0|     0|           0|           0|             0|             0|     0|\n",
            "|  0|  0|        0|     0|        0|              0|             0|         0|           0|   0|     0|           0|           0|             0|             0|     0|\n",
            "|  0|  0|        0|     0|        0|              0|             0|         0|           0|   0|     0|           0|           0|             0|             0|     0|\n",
            "|  0|  0|        0|     0|        0|              0|             0|         0|           0|   0|     0|           0|           0|             0|             0|     0|\n",
            "|  0|  0|        0|     0|        0|              0|             0|         0|           0|   0|     0|           0|           0|             0|             0|     0|\n",
            "|  0|  0|        0|     0|        0|              0|             0|         0|           0|   0|     0|           0|           0|             0|             0|     0|\n",
            "+---+---+---------+------+---------+---------------+--------------+----------+------------+----+------+------------+------------+--------------+--------------+------+\n",
            "only showing top 20 rows\n",
            "\n"
          ]
        }
      ],
      "source": [
        "# Check for null values in each column\n",
        "df.select([col(c).isNull().cast(\"int\").alias(c) for c in df.columns]).show()"
      ]
    },
    {
      "cell_type": "code",
      "execution_count": 10,
      "metadata": {
        "colab": {
          "base_uri": "https://localhost:8080/"
        },
        "id": "RXfrvoNVVVzf",
        "outputId": "9e23f980-4dc6-42c1-cab2-4d3a8ca5cfc2"
      },
      "outputs": [
        {
          "name": "stdout",
          "output_type": "stream",
          "text": [
            "workclass:\n",
            "+----------------+\n",
            "|       workclass|\n",
            "+----------------+\n",
            "|Self-emp-not-inc|\n",
            "|       Local-gov|\n",
            "|       State-gov|\n",
            "|         Private|\n",
            "|     Without-pay|\n",
            "|     Federal-gov|\n",
            "|    Never-worked|\n",
            "|               ?|\n",
            "|    Self-emp-inc|\n",
            "+----------------+\n",
            "\n",
            "--------------------------------------------------\n",
            "education:\n",
            "+------------+\n",
            "|   education|\n",
            "+------------+\n",
            "|        10th|\n",
            "|     Masters|\n",
            "|     5th-6th|\n",
            "|  Assoc-acdm|\n",
            "|   Assoc-voc|\n",
            "|     7th-8th|\n",
            "|         9th|\n",
            "|     HS-grad|\n",
            "|   Bachelors|\n",
            "|        11th|\n",
            "|     1st-4th|\n",
            "|   Preschool|\n",
            "|        12th|\n",
            "|   Doctorate|\n",
            "|Some-college|\n",
            "| Prof-school|\n",
            "+------------+\n",
            "\n",
            "--------------------------------------------------\n",
            "marital-status:\n",
            "+--------------------+\n",
            "|      marital-status|\n",
            "+--------------------+\n",
            "|           Separated|\n",
            "|       Never-married|\n",
            "|Married-spouse-ab...|\n",
            "|            Divorced|\n",
            "|             Widowed|\n",
            "|   Married-AF-spouse|\n",
            "|  Married-civ-spouse|\n",
            "+--------------------+\n",
            "\n",
            "--------------------------------------------------\n",
            "occupation:\n",
            "+-----------------+\n",
            "|       occupation|\n",
            "+-----------------+\n",
            "|            Sales|\n",
            "|  Exec-managerial|\n",
            "|   Prof-specialty|\n",
            "|Handlers-cleaners|\n",
            "|  Farming-fishing|\n",
            "|     Craft-repair|\n",
            "| Transport-moving|\n",
            "|  Priv-house-serv|\n",
            "|  Protective-serv|\n",
            "|    Other-service|\n",
            "|     Tech-support|\n",
            "|Machine-op-inspct|\n",
            "|     Armed-Forces|\n",
            "|                ?|\n",
            "|     Adm-clerical|\n",
            "+-----------------+\n",
            "\n",
            "--------------------------------------------------\n",
            "relationship:\n",
            "+--------------+\n",
            "|  relationship|\n",
            "+--------------+\n",
            "|     Own-child|\n",
            "| Not-in-family|\n",
            "|     Unmarried|\n",
            "|          Wife|\n",
            "|Other-relative|\n",
            "|       Husband|\n",
            "+--------------+\n",
            "\n",
            "--------------------------------------------------\n",
            "race:\n",
            "+------------------+\n",
            "|              race|\n",
            "+------------------+\n",
            "|             Other|\n",
            "|Amer-Indian-Eskimo|\n",
            "|             White|\n",
            "|Asian-Pac-Islander|\n",
            "|             Black|\n",
            "+------------------+\n",
            "\n",
            "--------------------------------------------------\n",
            "gender:\n",
            "+------+\n",
            "|gender|\n",
            "+------+\n",
            "|Female|\n",
            "|  Male|\n",
            "+------+\n",
            "\n",
            "--------------------------------------------------\n",
            "native-country:\n",
            "+------------------+\n",
            "|    native-country|\n",
            "+------------------+\n",
            "|       Philippines|\n",
            "|           Germany|\n",
            "|          Cambodia|\n",
            "|            France|\n",
            "|            Greece|\n",
            "|            Taiwan|\n",
            "|           Ecuador|\n",
            "|         Nicaragua|\n",
            "|              Hong|\n",
            "|              Peru|\n",
            "|             India|\n",
            "|             China|\n",
            "|             Italy|\n",
            "|Holand-Netherlands|\n",
            "|              Cuba|\n",
            "|             South|\n",
            "|              Iran|\n",
            "|           Ireland|\n",
            "|          Thailand|\n",
            "|              Laos|\n",
            "+------------------+\n",
            "only showing top 20 rows\n",
            "\n",
            "--------------------------------------------------\n",
            "income:\n",
            "+------+\n",
            "|income|\n",
            "+------+\n",
            "| <=50K|\n",
            "|  >50K|\n",
            "+------+\n",
            "\n",
            "--------------------------------------------------\n"
          ]
        }
      ],
      "source": [
        "# Check unique values for non-numeric columns\n",
        "for column in df.columns:\n",
        "    column_type = df.schema[column].dataType\n",
        "    if not isinstance(column_type, (IntegerType, FloatType, DoubleType, LongType)):\n",
        "        print(f'{column}:')\n",
        "        df.select(column).distinct().show()\n",
        "        print('-' * 50)"
      ]
    },
    {
      "cell_type": "code",
      "execution_count": 11,
      "metadata": {
        "colab": {
          "base_uri": "https://localhost:8080/"
        },
        "id": "Eih5k8GumpsC",
        "outputId": "cac51a82-e4ca-4e3e-dcf8-f429695dd756"
      },
      "outputs": [
        {
          "name": "stdout",
          "output_type": "stream",
          "text": [
            "Column 'workclass' has 2799 invalid values.\n",
            "+---+---+---------+------+------------+---------------+------------------+----------+-------------+-----+------+------------+------------+--------------+--------------+------+\n",
            "| id|age|workclass|fnlwgt|   education|educational-num|    marital-status|occupation| relationship| race|gender|capital-gain|capital-loss|hours-per-week|native-country|income|\n",
            "+---+---+---------+------+------------+---------------+------------------+----------+-------------+-----+------+------------+------------+--------------+--------------+------+\n",
            "|  4| 18|        ?|103497|Some-college|             10|     Never-married|         ?|    Own-child|White|Female|           0|           0|            30| United-States| <=50K|\n",
            "|  6| 29|        ?|227026|     HS-grad|              9|     Never-married|         ?|    Unmarried|Black|  Male|           0|           0|            40| United-States| <=50K|\n",
            "| 13| 58|        ?|299831|     HS-grad|              9|Married-civ-spouse|         ?|      Husband|White|  Male|           0|           0|            35| United-States| <=50K|\n",
            "| 22| 72|        ?|132015|     7th-8th|              4|          Divorced|         ?|Not-in-family|White|Female|           0|           0|             6| United-States| <=50K|\n",
            "| 35| 65|        ?|191846|     HS-grad|              9|Married-civ-spouse|         ?|      Husband|White|  Male|           0|           0|            40| United-States| <=50K|\n",
            "+---+---+---------+------+------------+---------------+------------------+----------+-------------+-----+------+------------+------------+--------------+--------------+------+\n",
            "only showing top 5 rows\n",
            "\n",
            "Column 'occupation' has 2809 invalid values.\n",
            "+---+---+---------+------+------------+---------------+------------------+----------+-------------+-----+------+------------+------------+--------------+--------------+------+\n",
            "| id|age|workclass|fnlwgt|   education|educational-num|    marital-status|occupation| relationship| race|gender|capital-gain|capital-loss|hours-per-week|native-country|income|\n",
            "+---+---+---------+------+------------+---------------+------------------+----------+-------------+-----+------+------------+------------+--------------+--------------+------+\n",
            "|  4| 18|        ?|103497|Some-college|             10|     Never-married|         ?|    Own-child|White|Female|           0|           0|            30| United-States| <=50K|\n",
            "|  6| 29|        ?|227026|     HS-grad|              9|     Never-married|         ?|    Unmarried|Black|  Male|           0|           0|            40| United-States| <=50K|\n",
            "| 13| 58|        ?|299831|     HS-grad|              9|Married-civ-spouse|         ?|      Husband|White|  Male|           0|           0|            35| United-States| <=50K|\n",
            "| 22| 72|        ?|132015|     7th-8th|              4|          Divorced|         ?|Not-in-family|White|Female|           0|           0|             6| United-States| <=50K|\n",
            "| 35| 65|        ?|191846|     HS-grad|              9|Married-civ-spouse|         ?|      Husband|White|  Male|           0|           0|            40| United-States| <=50K|\n",
            "+---+---+---------+------+------------+---------------+------------------+----------+-------------+-----+------+------------+------------+--------------+--------------+------+\n",
            "only showing top 5 rows\n",
            "\n",
            "Column 'native-country' has 857 invalid values.\n",
            "+---+---+------------+------+---------+---------------+--------------------+---------------+-------------+------------------+------+------------+------------+--------------+--------------+------+\n",
            "| id|age|   workclass|fnlwgt|education|educational-num|      marital-status|     occupation| relationship|              race|gender|capital-gain|capital-loss|hours-per-week|native-country|income|\n",
            "+---+---+------------+------+---------+---------------+--------------------+---------------+-------------+------------------+------+------------+------------+--------------+--------------+------+\n",
            "| 19| 40|     Private| 85019|Doctorate|             16|  Married-civ-spouse| Prof-specialty|      Husband|Asian-Pac-Islander|  Male|           0|           0|            45|             ?|  >50K|\n",
            "| 65| 41|     Private|109912|Bachelors|             13|       Never-married|  Other-service|Not-in-family|             White|Female|           0|           0|            40|             ?| <=50K|\n",
            "| 83| 44|Self-emp-inc|223881|  HS-grad|              9|  Married-civ-spouse|   Craft-repair|      Husband|             White|  Male|       99999|           0|            50|             ?|  >50K|\n",
            "|188| 34|   State-gov|513100|Bachelors|             13|Married-spouse-ab...|Farming-fishing|Not-in-family|             Black|  Male|           0|           0|            40|             ?| <=50K|\n",
            "|253| 42| Federal-gov|177937|Bachelors|             13|       Never-married| Prof-specialty|Not-in-family|             White|  Male|           0|           0|            40|             ?| <=50K|\n",
            "+---+---+------------+------+---------+---------------+--------------------+---------------+-------------+------------------+------+------------+------------+--------------+--------------+------+\n",
            "only showing top 5 rows\n",
            "\n",
            "+---+---+---------+------+---------+---------------+--------------+----------+------------+----+------+------------+------------+--------------+--------------+------+\n",
            "| id|age|workclass|fnlwgt|education|educational-num|marital-status|occupation|relationship|race|gender|capital-gain|capital-loss|hours-per-week|native-country|income|\n",
            "+---+---+---------+------+---------+---------------+--------------+----------+------------+----+------+------------+------------+--------------+--------------+------+\n",
            "|  0|  0|     2799|     0|        0|              0|             0|      2809|           0|   0|     0|           0|           0|             0|           857|     0|\n",
            "+---+---+---------+------+---------+---------------+--------------+----------+------------+----+------+------------+------------+--------------+--------------+------+\n",
            "\n"
          ]
        }
      ],
      "source": [
        "# Check for invalid values represented by '?' in each column\n",
        "for column in df.columns:\n",
        "    invalid_values_df = df.filter(df[column] == '?')\n",
        "    invalid_values_count = invalid_values_df.count()\n",
        "    if invalid_values_count > 0:\n",
        "        print(f\"Column '{column}' has {invalid_values_count} invalid values.\")\n",
        "        invalid_values_df.show(5) # Show a few examples of invalid values\n",
        "\n",
        "# Alternatively, to check if there are any invalid values across the entire dataset\n",
        "invalid_values_count = df.select(\n",
        "    [F.when(F.col(c) == '?', 1).otherwise(0).alias(c) for c in df.columns]\n",
        ").agg(*[F.sum(c).alias(c) for c in df.columns])\n",
        "\n",
        "invalid_values_count.show()"
      ]
    },
    {
      "cell_type": "code",
      "execution_count": 12,
      "metadata": {
        "colab": {
          "base_uri": "https://localhost:8080/"
        },
        "id": "89c9p3iHonfV",
        "outputId": "cbe658d9-5d43-4147-8776-5acd93ebd02c"
      },
      "outputs": [
        {
          "name": "stdout",
          "output_type": "stream",
          "text": [
            "+---+---+----------------+------+------------+---------------+------------------+-----------------+-------------+-----+------+------------+------------+--------------+--------------+------+\n",
            "| id|age|       workclass|fnlwgt|   education|educational-num|    marital-status|       occupation| relationship| race|gender|capital-gain|capital-loss|hours-per-week|native-country|income|\n",
            "+---+---+----------------+------+------------+---------------+------------------+-----------------+-------------+-----+------+------------+------------+--------------+--------------+------+\n",
            "|  0| 25|         Private|226802|        11th|              7|     Never-married|Machine-op-inspct|    Own-child|Black|  Male|           0|           0|            40| United-States| <=50K|\n",
            "|  1| 38|         Private| 89814|     HS-grad|              9|Married-civ-spouse|  Farming-fishing|      Husband|White|  Male|           0|           0|            50| United-States| <=50K|\n",
            "|  2| 28|       Local-gov|336951|  Assoc-acdm|             12|Married-civ-spouse|  Protective-serv|      Husband|White|  Male|           0|           0|            40| United-States|  >50K|\n",
            "|  3| 44|         Private|160323|Some-college|             10|Married-civ-spouse|Machine-op-inspct|      Husband|Black|  Male|        7688|           0|            40| United-States|  >50K|\n",
            "|  5| 34|         Private|198693|        10th|              6|     Never-married|    Other-service|Not-in-family|White|  Male|           0|           0|            30| United-States| <=50K|\n",
            "|  7| 63|Self-emp-not-inc|104626| Prof-school|             15|Married-civ-spouse|   Prof-specialty|      Husband|White|  Male|        3103|           0|            32| United-States|  >50K|\n",
            "|  8| 24|         Private|369667|Some-college|             10|     Never-married|    Other-service|    Unmarried|White|Female|           0|           0|            40| United-States| <=50K|\n",
            "|  9| 55|         Private|104996|     7th-8th|              4|Married-civ-spouse|     Craft-repair|      Husband|White|  Male|           0|           0|            10| United-States| <=50K|\n",
            "| 10| 65|         Private|184454|     HS-grad|              9|Married-civ-spouse|Machine-op-inspct|      Husband|White|  Male|        6418|           0|            40| United-States|  >50K|\n",
            "| 11| 36|     Federal-gov|212465|   Bachelors|             13|Married-civ-spouse|     Adm-clerical|      Husband|White|  Male|           0|           0|            40| United-States| <=50K|\n",
            "| 12| 26|         Private| 82091|     HS-grad|              9|     Never-married|     Adm-clerical|Not-in-family|White|Female|           0|           0|            39| United-States| <=50K|\n",
            "| 14| 48|         Private|279724|     HS-grad|              9|Married-civ-spouse|Machine-op-inspct|      Husband|White|  Male|        3103|           0|            48| United-States|  >50K|\n",
            "| 15| 43|         Private|346189|     Masters|             14|Married-civ-spouse|  Exec-managerial|      Husband|White|  Male|           0|           0|            50| United-States|  >50K|\n",
            "| 16| 20|       State-gov|444554|Some-college|             10|     Never-married|    Other-service|    Own-child|White|  Male|           0|           0|            25| United-States| <=50K|\n",
            "| 17| 43|         Private|128354|     HS-grad|              9|Married-civ-spouse|     Adm-clerical|         Wife|White|Female|           0|           0|            30| United-States| <=50K|\n",
            "| 18| 37|         Private| 60548|     HS-grad|              9|           Widowed|Machine-op-inspct|    Unmarried|White|Female|           0|           0|            20| United-States| <=50K|\n",
            "| 20| 34|         Private|107914|   Bachelors|             13|Married-civ-spouse|     Tech-support|      Husband|White|  Male|           0|           0|            47| United-States|  >50K|\n",
            "| 21| 34|         Private|238588|Some-college|             10|     Never-married|    Other-service|    Own-child|Black|Female|           0|           0|            35| United-States| <=50K|\n",
            "| 23| 25|         Private|220931|   Bachelors|             13|     Never-married|   Prof-specialty|Not-in-family|White|  Male|           0|           0|            43|          Peru| <=50K|\n",
            "| 24| 25|         Private|205947|   Bachelors|             13|Married-civ-spouse|   Prof-specialty|      Husband|White|  Male|           0|           0|            40| United-States| <=50K|\n",
            "+---+---+----------------+------+------------+---------------+------------------+-----------------+-------------+-----+------+------------+------------+--------------+--------------+------+\n",
            "only showing top 20 rows\n",
            "\n"
          ]
        }
      ],
      "source": [
        "# 'workclass', 'occupation', and 'native-country' are the columns with potential invalid values\n",
        "invalid_columns = ['workclass', 'occupation', 'native-country']\n",
        "\n",
        "# Create a condition to check for '?' in any of the specified columns\n",
        "condition = F.lit(False)  # Initialize with False\n",
        "for column in invalid_columns:\n",
        "    condition = condition | (F.col(column) == '?')  # Add condition for each column\n",
        "\n",
        "# Filter the DataFrame to exclude rows matching the condition (rows with '?' in any of the columns)\n",
        "df = df.filter(~condition)\n",
        "\n",
        "# Show the cleaned DataFrame\n",
        "df.show()"
      ]
    },
    {
      "cell_type": "code",
      "execution_count": 13,
      "metadata": {
        "colab": {
          "base_uri": "https://localhost:8080/"
        },
        "id": "Y4bUNjl3y5kX",
        "outputId": "865bfcdc-6bb9-4d84-8b64-473d393c3bcb"
      },
      "outputs": [
        {
          "data": {
            "text/plain": [
              "45222"
            ]
          },
          "execution_count": 13,
          "metadata": {},
          "output_type": "execute_result"
        }
      ],
      "source": [
        "df.count()"
      ]
    },
    {
      "cell_type": "markdown",
      "metadata": {
        "id": "EkeEkhL1v5Ox"
      },
      "source": [
        "# Feature engineering"
      ]
    },
    {
      "cell_type": "code",
      "execution_count": 14,
      "metadata": {
        "id": "R5FWULjvO-eS"
      },
      "outputs": [],
      "source": [
        "#  Replacing education categories into new 4 categories\n",
        "df = df.withColumn(\n",
        "    'education',\n",
        "    F.when(df['education'].isin(['Preschool', '1st-4th', '5th-6th', '7th-8th', '9th', '10th', '11th', '12th']), 'School')\n",
        "    .when(df['education'].isin(['HS-grad', 'Some-college']), 'High School')\n",
        "    .when(df['education'].isin(['Assoc-voc', 'Assoc-acdm']), 'Associates')\n",
        "    .when(df['education'].isin(['Prof-school', 'Bachelors', 'Masters', 'Doctorate']), 'Higher Education')\n",
        "    .otherwise(df['education'])\n",
        ")"
      ]
    },
    {
      "cell_type": "code",
      "execution_count": 15,
      "metadata": {
        "id": "R7FS2o1SwYoQ"
      },
      "outputs": [],
      "source": [
        "# Replacing marital-status categories into 2 new categories\n",
        "df = df.withColumn(\n",
        "    'marital-status',\n",
        "    F.when(df['marital-status'].isin(['Married-civ-spouse', 'Married-AF-spouse', 'Married-spouse-absent']), 'Married')\n",
        "    .when(df['marital-status'].isin(['Never-married', 'Divorced', 'Separated', 'Widowed']), 'Single')\n",
        "    .otherwise(df['marital-status'])\n",
        ")"
      ]
    },
    {
      "cell_type": "code",
      "execution_count": 16,
      "metadata": {
        "id": "L3BCeIi3wafU"
      },
      "outputs": [],
      "source": [
        "# Create 'capital_income' (capital-gain - capital-loss) column\n",
        "df = df.withColumn('capital_income', df['capital-gain'] - df['capital-loss'])"
      ]
    },
    {
      "cell_type": "code",
      "execution_count": 17,
      "metadata": {
        "id": "hJJDsJGswm_e"
      },
      "outputs": [],
      "source": [
        "# Drop the 'educational-num' and 'fnlwgt' columns because they don't give any value\n",
        "df = df.drop('educational-num', 'fnlwgt')"
      ]
    },
    {
      "cell_type": "code",
      "execution_count": 18,
      "metadata": {
        "id": "Xpf15U7uwoMH"
      },
      "outputs": [],
      "source": [
        "#  Convert the 'income' column to numerical values (0 for <=50K, 1 for >50K)\n",
        "df = df.withColumn('income', F.when(df['income'] == '<=50K', 0).otherwise(1))"
      ]
    },
    {
      "cell_type": "code",
      "execution_count": 19,
      "metadata": {
        "colab": {
          "base_uri": "https://localhost:8080/"
        },
        "id": "7sJhwjjUw0AM",
        "outputId": "d65adb98-8ef3-483a-d572-388bd57f53ab"
      },
      "outputs": [
        {
          "name": "stdout",
          "output_type": "stream",
          "text": [
            "+---+---+---------+-----------+--------------+-----------------+-------------+-----+------+------------+------------+--------------+--------------+------+--------------+\n",
            "| id|age|workclass|  education|marital-status|       occupation| relationship| race|gender|capital-gain|capital-loss|hours-per-week|native-country|income|capital_income|\n",
            "+---+---+---------+-----------+--------------+-----------------+-------------+-----+------+------------+------------+--------------+--------------+------+--------------+\n",
            "|  0| 25|  Private|     School|        Single|Machine-op-inspct|    Own-child|Black|  Male|           0|           0|            40| United-States|     0|             0|\n",
            "|  1| 38|  Private|High School|       Married|  Farming-fishing|      Husband|White|  Male|           0|           0|            50| United-States|     0|             0|\n",
            "|  2| 28|Local-gov| Associates|       Married|  Protective-serv|      Husband|White|  Male|           0|           0|            40| United-States|     1|             0|\n",
            "|  3| 44|  Private|High School|       Married|Machine-op-inspct|      Husband|Black|  Male|        7688|           0|            40| United-States|     1|          7688|\n",
            "|  5| 34|  Private|     School|        Single|    Other-service|Not-in-family|White|  Male|           0|           0|            30| United-States|     0|             0|\n",
            "+---+---+---------+-----------+--------------+-----------------+-------------+-----+------+------------+------------+--------------+--------------+------+--------------+\n",
            "only showing top 5 rows\n",
            "\n"
          ]
        }
      ],
      "source": [
        "# Show the modified DataFrame\n",
        "df.show(5)"
      ]
    },
    {
      "cell_type": "code",
      "execution_count": 20,
      "metadata": {
        "colab": {
          "base_uri": "https://localhost:8080/"
        },
        "id": "_px4RgoOw_5E",
        "outputId": "55ae0d25-746b-4c78-a802-d4c3c6c0d6ea"
      },
      "outputs": [
        {
          "data": {
            "text/plain": [
              "[('id', 'bigint'),\n",
              " ('age', 'int'),\n",
              " ('workclass', 'string'),\n",
              " ('education', 'string'),\n",
              " ('marital-status', 'string'),\n",
              " ('occupation', 'string'),\n",
              " ('relationship', 'string'),\n",
              " ('race', 'string'),\n",
              " ('gender', 'string'),\n",
              " ('capital-gain', 'int'),\n",
              " ('capital-loss', 'int'),\n",
              " ('hours-per-week', 'int'),\n",
              " ('native-country', 'string'),\n",
              " ('income', 'int'),\n",
              " ('capital_income', 'int')]"
            ]
          },
          "execution_count": 20,
          "metadata": {},
          "output_type": "execute_result"
        }
      ],
      "source": [
        "df.dtypes"
      ]
    },
    {
      "cell_type": "markdown",
      "metadata": {
        "id": "w_JRgTan0cTy"
      },
      "source": [
        "# Data transformation"
      ]
    },
    {
      "cell_type": "code",
      "execution_count": 21,
      "metadata": {
        "colab": {
          "base_uri": "https://localhost:8080/"
        },
        "id": "iicn-W7pyfwN",
        "outputId": "d0fc0aa2-9882-4ed8-9533-6f018fb193db"
      },
      "outputs": [
        {
          "name": "stdout",
          "output_type": "stream",
          "text": [
            "+---+---+----------------+----------------+--------------+-----------------+-------------+-----+------+------------+------------+--------------+--------------+------+--------------+\n",
            "| id|age|       workclass|       education|marital-status|       occupation| relationship| race|gender|capital-gain|capital-loss|hours-per-week|native-country|income|capital_income|\n",
            "+---+---+----------------+----------------+--------------+-----------------+-------------+-----+------+------------+------------+--------------+--------------+------+--------------+\n",
            "|  0| 25|         Private|          School|        Single|Machine-op-inspct|    Own-child|Black|  Male|           0|           0|            40| United-States|     0|             0|\n",
            "|  1| 38|         Private|     High School|       Married|  Farming-fishing|      Husband|White|  Male|           0|           0|            50| United-States|     0|             0|\n",
            "|  2| 28|       Local-gov|      Associates|       Married|  Protective-serv|      Husband|White|  Male|           0|           0|            40| United-States|     1|             0|\n",
            "|  3| 44|         Private|     High School|       Married|Machine-op-inspct|      Husband|Black|  Male|        7688|           0|            40| United-States|     1|          7688|\n",
            "|  5| 34|         Private|          School|        Single|    Other-service|Not-in-family|White|  Male|           0|           0|            30| United-States|     0|             0|\n",
            "|  7| 63|Self-emp-not-inc|Higher Education|       Married|   Prof-specialty|      Husband|White|  Male|        3103|           0|            32| United-States|     1|          3103|\n",
            "|  8| 24|         Private|     High School|        Single|    Other-service|    Unmarried|White|Female|           0|           0|            40| United-States|     0|             0|\n",
            "|  9| 55|         Private|          School|       Married|     Craft-repair|      Husband|White|  Male|           0|           0|            10| United-States|     0|             0|\n",
            "| 10| 65|         Private|     High School|       Married|Machine-op-inspct|      Husband|White|  Male|        6418|           0|            40| United-States|     1|          6418|\n",
            "| 11| 36|     Federal-gov|Higher Education|       Married|     Adm-clerical|      Husband|White|  Male|           0|           0|            40| United-States|     0|             0|\n",
            "| 12| 26|         Private|     High School|        Single|     Adm-clerical|Not-in-family|White|Female|           0|           0|            39| United-States|     0|             0|\n",
            "| 14| 48|         Private|     High School|       Married|Machine-op-inspct|      Husband|White|  Male|        3103|           0|            48| United-States|     1|          3103|\n",
            "| 15| 43|         Private|Higher Education|       Married|  Exec-managerial|      Husband|White|  Male|           0|           0|            50| United-States|     1|             0|\n",
            "| 16| 20|       State-gov|     High School|        Single|    Other-service|    Own-child|White|  Male|           0|           0|            25| United-States|     0|             0|\n",
            "| 17| 43|         Private|     High School|       Married|     Adm-clerical|         Wife|White|Female|           0|           0|            30| United-States|     0|             0|\n",
            "| 18| 37|         Private|     High School|        Single|Machine-op-inspct|    Unmarried|White|Female|           0|           0|            20| United-States|     0|             0|\n",
            "| 20| 34|         Private|Higher Education|       Married|     Tech-support|      Husband|White|  Male|           0|           0|            47| United-States|     1|             0|\n",
            "| 21| 34|         Private|     High School|        Single|    Other-service|    Own-child|Black|Female|           0|           0|            35| United-States|     0|             0|\n",
            "| 23| 25|         Private|Higher Education|        Single|   Prof-specialty|Not-in-family|White|  Male|           0|           0|            43|          Peru|     0|             0|\n",
            "| 24| 25|         Private|Higher Education|       Married|   Prof-specialty|      Husband|White|  Male|           0|           0|            40| United-States|     0|             0|\n",
            "+---+---+----------------+----------------+--------------+-----------------+-------------+-----+------+------------+------------+--------------+--------------+------+--------------+\n",
            "only showing top 20 rows\n",
            "\n"
          ]
        }
      ],
      "source": [
        "df.show()"
      ]
    },
    {
      "cell_type": "code",
      "execution_count": 22,
      "metadata": {
        "id": "xNUxPeJiHA0i"
      },
      "outputs": [],
      "source": [
        "# Divide all columns into categorical and numerical for ease\n",
        "numerical_features = ['age', 'capital-gain', 'capital-loss', 'hours-per-week', 'capital_income']\n",
        "categorical_features = ['workclass', 'education', 'marital-status', 'occupation', 'relationship', 'race', 'gender', 'native-country']"
      ]
    },
    {
      "cell_type": "code",
      "execution_count": 23,
      "metadata": {
        "id": "Q5Su4KKrHe4U"
      },
      "outputs": [],
      "source": [
        "# Put all the numerical column values into a one vector\n",
        "numerical_vector_assembler = VectorAssembler(inputCols=numerical_features, outputCol='numerical_features_vector')\n",
        "df = numerical_vector_assembler.transform(df)"
      ]
    },
    {
      "cell_type": "code",
      "execution_count": 24,
      "metadata": {
        "colab": {
          "base_uri": "https://localhost:8080/"
        },
        "id": "Q9GPU4zGHqhq",
        "outputId": "493c3338-feb0-4073-a782-a7422ddbce99"
      },
      "outputs": [
        {
          "name": "stdout",
          "output_type": "stream",
          "text": [
            "+---+---+---------+-----------+--------------+-----------------+------------+-----+------+------------+------------+--------------+--------------+------+--------------+-------------------------+\n",
            "| id|age|workclass|  education|marital-status|       occupation|relationship| race|gender|capital-gain|capital-loss|hours-per-week|native-country|income|capital_income|numerical_features_vector|\n",
            "+---+---+---------+-----------+--------------+-----------------+------------+-----+------+------------+------------+--------------+--------------+------+--------------+-------------------------+\n",
            "|  0| 25|  Private|     School|        Single|Machine-op-inspct|   Own-child|Black|  Male|           0|           0|            40| United-States|     0|             0|     (5,[0,3],[25.0,40...|\n",
            "|  1| 38|  Private|High School|       Married|  Farming-fishing|     Husband|White|  Male|           0|           0|            50| United-States|     0|             0|     (5,[0,3],[38.0,50...|\n",
            "|  2| 28|Local-gov| Associates|       Married|  Protective-serv|     Husband|White|  Male|           0|           0|            40| United-States|     1|             0|     (5,[0,3],[28.0,40...|\n",
            "+---+---+---------+-----------+--------------+-----------------+------------+-----+------+------------+------------+--------------+--------------+------+--------------+-------------------------+\n",
            "only showing top 3 rows\n",
            "\n"
          ]
        }
      ],
      "source": [
        "df.show(3)"
      ]
    },
    {
      "cell_type": "code",
      "execution_count": 25,
      "metadata": {
        "colab": {
          "base_uri": "https://localhost:8080/"
        },
        "id": "7PjMRtk9H0nE",
        "outputId": "be337cec-5f70-4f06-e25a-201e9d40db94"
      },
      "outputs": [
        {
          "data": {
            "text/plain": [
              "[Row(numerical_features_vector=SparseVector(5, {0: 25.0, 3: 40.0})),\n",
              " Row(numerical_features_vector=SparseVector(5, {0: 38.0, 3: 50.0})),\n",
              " Row(numerical_features_vector=SparseVector(5, {0: 28.0, 3: 40.0})),\n",
              " Row(numerical_features_vector=DenseVector([44.0, 7688.0, 0.0, 40.0, 7688.0])),\n",
              " Row(numerical_features_vector=SparseVector(5, {0: 34.0, 3: 30.0}))]"
            ]
          },
          "execution_count": 25,
          "metadata": {},
          "output_type": "execute_result"
        }
      ],
      "source": [
        "df.select('numerical_features_vector').take(5)"
      ]
    },
    {
      "cell_type": "code",
      "execution_count": 26,
      "metadata": {
        "id": "eeb1x1C3DerY"
      },
      "outputs": [],
      "source": [
        "# Scaling numerical features\n",
        "scaler = StandardScaler(inputCol='numerical_features_vector',\n",
        "                        outputCol='scaled_numerical_feature_vector',withStd=True,withMean=True)\n",
        "scaler_model = scaler.fit(df)\n",
        "df = scaler_model.transform(df)"
      ]
    },
    {
      "cell_type": "code",
      "execution_count": 27,
      "metadata": {
        "colab": {
          "base_uri": "https://localhost:8080/"
        },
        "id": "QXgYOet2Jl1j",
        "outputId": "953c8538-5969-43bb-e101-b2cf46de8764"
      },
      "outputs": [
        {
          "data": {
            "text/plain": [
              "[Row(scaled_numerical_feature_vector=DenseVector([-1.025, -0.1467, -0.2188, -0.0781, -0.1345])),\n",
              " Row(scaled_numerical_feature_vector=DenseVector([-0.0415, -0.1467, -0.2188, 0.7547, -0.1345])),\n",
              " Row(scaled_numerical_feature_vector=DenseVector([-0.798, -0.1467, -0.2188, -0.0781, -0.1345])),\n",
              " Row(scaled_numerical_feature_vector=DenseVector([0.4125, 0.8775, -0.2188, -0.0781, 0.8864])),\n",
              " Row(scaled_numerical_feature_vector=DenseVector([-0.3441, -0.1467, -0.2188, -0.9109, -0.1345]))]"
            ]
          },
          "execution_count": 27,
          "metadata": {},
          "output_type": "execute_result"
        }
      ],
      "source": [
        "df.select('scaled_numerical_feature_vector').take(5)"
      ]
    },
    {
      "cell_type": "code",
      "execution_count": 28,
      "metadata": {
        "colab": {
          "base_uri": "https://localhost:8080/"
        },
        "id": "eFK_if0eCoHR",
        "outputId": "9d8c2d71-a83f-431f-8331-718659b076c1"
      },
      "outputs": [
        {
          "name": "stdout",
          "output_type": "stream",
          "text": [
            "+---+---+----------------+----------------+--------------+-----------------+-------------+-----+------+------------+------------+--------------+--------------+------+--------------+-------------------------+-------------------------------+-----------------+-----------------+----------------------+------------------+--------------------+------------+--------------+----------------------+\n",
            "| id|age|       workclass|       education|marital-status|       occupation| relationship| race|gender|capital-gain|capital-loss|hours-per-week|native-country|income|capital_income|numerical_features_vector|scaled_numerical_feature_vector|workclass_indexed|education_indexed|marital-status_indexed|occupation_indexed|relationship_indexed|race_indexed|gender_indexed|native-country_indexed|\n",
            "+---+---+----------------+----------------+--------------+-----------------+-------------+-----+------+------------+------------+--------------+--------------+------+--------------+-------------------------+-------------------------------+-----------------+-----------------+----------------------+------------------+--------------------+------------+--------------+----------------------+\n",
            "|  0| 25|         Private|          School|        Single|Machine-op-inspct|    Own-child|Black|  Male|           0|           0|            40| United-States|     0|             0|     (5,[0,3],[25.0,40...|           [-1.0249715758287...|              0.0|              2.0|                   0.0|               6.0|                 2.0|         1.0|           0.0|                   0.0|\n",
            "|  1| 38|         Private|     High School|       Married|  Farming-fishing|      Husband|White|  Male|           0|           0|            50| United-States|     0|             0|     (5,[0,3],[38.0,50...|           [-0.0414545806884...|              0.0|              0.0|                   1.0|               9.0|                 0.0|         0.0|           0.0|                   0.0|\n",
            "|  2| 28|       Local-gov|      Associates|       Married|  Protective-serv|      Husband|White|  Male|           0|           0|            40| United-States|     1|             0|     (5,[0,3],[28.0,40...|           [-0.7980061154117...|              2.0|              3.0|                   1.0|              11.0|                 0.0|         0.0|           0.0|                   0.0|\n",
            "|  3| 44|         Private|     High School|       Married|Machine-op-inspct|      Husband|Black|  Male|        7688|           0|            40| United-States|     1|          7688|     [44.0,7688.0,0.0,...|           [0.41247634014558...|              0.0|              0.0|                   1.0|               6.0|                 0.0|         1.0|           0.0|                   0.0|\n",
            "|  5| 34|         Private|          School|        Single|    Other-service|Not-in-family|White|  Male|           0|           0|            30| United-States|     0|             0|     (5,[0,3],[34.0,30...|           [-0.3440751945777...|              0.0|              2.0|                   0.0|               5.0|                 1.0|         0.0|           0.0|                   0.0|\n",
            "|  7| 63|Self-emp-not-inc|Higher Education|       Married|   Prof-specialty|      Husband|White|  Male|        3103|           0|            32| United-States|     1|          3103|     [63.0,3103.0,0.0,...|           [1.84992425611987...|              1.0|              1.0|                   1.0|               1.0|                 0.0|         0.0|           0.0|                   0.0|\n",
            "|  8| 24|         Private|     High School|        Single|    Other-service|    Unmarried|White|Female|           0|           0|            40| United-States|     0|             0|     (5,[0,3],[24.0,40...|           [-1.1006267293010...|              0.0|              0.0|                   0.0|               5.0|                 3.0|         0.0|           1.0|                   0.0|\n",
            "|  9| 55|         Private|          School|       Married|     Craft-repair|      Husband|White|  Male|           0|           0|            10| United-States|     0|             0|     (5,[0,3],[55.0,10...|           [1.24468302834122...|              0.0|              2.0|                   1.0|               0.0|                 0.0|         0.0|           0.0|                   0.0|\n",
            "| 10| 65|         Private|     High School|       Married|Machine-op-inspct|      Husband|White|  Male|        6418|           0|            40| United-States|     1|          6418|     [65.0,6418.0,0.0,...|           [2.00123456306453...|              0.0|              0.0|                   1.0|               6.0|                 0.0|         0.0|           0.0|                   0.0|\n",
            "| 11| 36|     Federal-gov|Higher Education|       Married|     Adm-clerical|      Husband|White|  Male|           0|           0|            40| United-States|     0|             0|     (5,[0,3],[36.0,40...|           [-0.1927648876330...|              5.0|              1.0|                   1.0|               3.0|                 0.0|         0.0|           0.0|                   0.0|\n",
            "| 12| 26|         Private|     High School|        Single|     Adm-clerical|Not-in-family|White|Female|           0|           0|            39| United-States|     0|             0|     (5,[0,3],[26.0,39...|           [-0.9493164223563...|              0.0|              0.0|                   0.0|               3.0|                 1.0|         0.0|           1.0|                   0.0|\n",
            "| 14| 48|         Private|     High School|       Married|Machine-op-inspct|      Husband|White|  Male|        3103|           0|            48| United-States|     1|          3103|     [48.0,3103.0,0.0,...|           [0.71509695403490...|              0.0|              0.0|                   1.0|               6.0|                 0.0|         0.0|           0.0|                   0.0|\n",
            "| 15| 43|         Private|Higher Education|       Married|  Exec-managerial|      Husband|White|  Male|           0|           0|            50| United-States|     1|             0|     (5,[0,3],[43.0,50...|           [0.33682118667325...|              0.0|              1.0|                   1.0|               2.0|                 0.0|         0.0|           0.0|                   0.0|\n",
            "| 16| 20|       State-gov|     High School|        Single|    Other-service|    Own-child|White|  Male|           0|           0|            25| United-States|     0|             0|     (5,[0,3],[20.0,25...|           [-1.4032473431903...|              3.0|              0.0|                   0.0|               5.0|                 2.0|         0.0|           0.0|                   0.0|\n",
            "| 17| 43|         Private|     High School|       Married|     Adm-clerical|         Wife|White|Female|           0|           0|            30| United-States|     0|             0|     (5,[0,3],[43.0,30...|           [0.33682118667325...|              0.0|              0.0|                   1.0|               3.0|                 4.0|         0.0|           1.0|                   0.0|\n",
            "| 18| 37|         Private|     High School|        Single|Machine-op-inspct|    Unmarried|White|Female|           0|           0|            20| United-States|     0|             0|     (5,[0,3],[37.0,20...|           [-0.1171097341607...|              0.0|              0.0|                   0.0|               6.0|                 3.0|         0.0|           1.0|                   0.0|\n",
            "| 20| 34|         Private|Higher Education|       Married|     Tech-support|      Husband|White|  Male|           0|           0|            47| United-States|     1|             0|     (5,[0,3],[34.0,47...|           [-0.3440751945777...|              0.0|              1.0|                   1.0|              10.0|                 0.0|         0.0|           0.0|                   0.0|\n",
            "| 21| 34|         Private|     High School|        Single|    Other-service|    Own-child|Black|Female|           0|           0|            35| United-States|     0|             0|     (5,[0,3],[34.0,35...|           [-0.3440751945777...|              0.0|              0.0|                   0.0|               5.0|                 2.0|         1.0|           1.0|                   0.0|\n",
            "| 23| 25|         Private|Higher Education|        Single|   Prof-specialty|Not-in-family|White|  Male|           0|           0|            43|          Peru|     0|             0|     (5,[0,3],[25.0,43...|           [-1.0249715758287...|              0.0|              1.0|                   0.0|               1.0|                 1.0|         0.0|           0.0|                  26.0|\n",
            "| 24| 25|         Private|Higher Education|       Married|   Prof-specialty|      Husband|White|  Male|           0|           0|            40| United-States|     0|             0|     (5,[0,3],[25.0,40...|           [-1.0249715758287...|              0.0|              1.0|                   1.0|               1.0|                 0.0|         0.0|           0.0|                   0.0|\n",
            "+---+---+----------------+----------------+--------------+-----------------+-------------+-----+------+------------+------------+--------------+--------------+------+--------------+-------------------------+-------------------------------+-----------------+-----------------+----------------------+------------------+--------------------+------------+--------------+----------------------+\n",
            "only showing top 20 rows\n",
            "\n"
          ]
        }
      ],
      "source": [
        " # Encoding categorical columns\n",
        "indexer = StringIndexer(inputCols=categorical_features,\n",
        "                        outputCols=[f'{col}_indexed' for col in categorical_features])\n",
        "df = indexer.fit(df).transform(df)\n",
        "df.show()"
      ]
    },
    {
      "cell_type": "code",
      "execution_count": 29,
      "metadata": {
        "id": "mrUj_knrGZKO"
      },
      "outputs": [],
      "source": [
        "# After encoding categorical columns, add those encoded column values to one last final feature vector\n",
        "feature_assembler = VectorAssembler(inputCols=['workclass_indexed','education_indexed','marital-status_indexed','occupation_indexed','relationship_indexed','race_indexed','gender_indexed','native-country_indexed','scaled_numerical_feature_vector'],\n",
        "                                    outputCol='final_feature_vector')\n",
        "df = feature_assembler.transform(df)"
      ]
    },
    {
      "cell_type": "code",
      "execution_count": 30,
      "metadata": {
        "colab": {
          "base_uri": "https://localhost:8080/"
        },
        "id": "m4XN_CkJMFZX",
        "outputId": "408fa45f-0496-4a0a-edec-069dee73d7fc"
      },
      "outputs": [
        {
          "data": {
            "text/plain": [
              "[Row(final_feature_vector=DenseVector([0.0, 2.0, 0.0, 6.0, 2.0, 1.0, 0.0, 0.0, -1.025, -0.1467, -0.2188, -0.0781, -0.1345])),\n",
              " Row(final_feature_vector=SparseVector(13, {2: 1.0, 3: 9.0, 8: -0.0415, 9: -0.1467, 10: -0.2188, 11: 0.7547, 12: -0.1345})),\n",
              " Row(final_feature_vector=DenseVector([2.0, 3.0, 1.0, 11.0, 0.0, 0.0, 0.0, 0.0, -0.798, -0.1467, -0.2188, -0.0781, -0.1345])),\n",
              " Row(final_feature_vector=DenseVector([0.0, 0.0, 1.0, 6.0, 0.0, 1.0, 0.0, 0.0, 0.4125, 0.8775, -0.2188, -0.0781, 0.8864])),\n",
              " Row(final_feature_vector=DenseVector([0.0, 2.0, 0.0, 5.0, 1.0, 0.0, 0.0, 0.0, -0.3441, -0.1467, -0.2188, -0.9109, -0.1345]))]"
            ]
          },
          "execution_count": 30,
          "metadata": {},
          "output_type": "execute_result"
        }
      ],
      "source": [
        "df.select('final_feature_vector').take(5)"
      ]
    },
    {
      "cell_type": "code",
      "execution_count": 31,
      "metadata": {
        "id": "xLvNX_UHMJ8w"
      },
      "outputs": [],
      "source": [
        "# We need only final feature vector and output column\n",
        "finalized_data = df.select('final_feature_vector','income')"
      ]
    },
    {
      "cell_type": "code",
      "execution_count": 32,
      "metadata": {
        "colab": {
          "base_uri": "https://localhost:8080/"
        },
        "id": "T_-UHwSQOG_E",
        "outputId": "d43f4bf8-2110-4cd8-9755-b0e4633329cf"
      },
      "outputs": [
        {
          "name": "stdout",
          "output_type": "stream",
          "text": [
            "+--------------------+------+\n",
            "|final_feature_vector|income|\n",
            "+--------------------+------+\n",
            "|[0.0,2.0,0.0,6.0,...|     0|\n",
            "|(13,[2,3,8,9,10,1...|     0|\n",
            "|[2.0,3.0,1.0,11.0...|     1|\n",
            "|[0.0,0.0,1.0,6.0,...|     1|\n",
            "|[0.0,2.0,0.0,5.0,...|     0|\n",
            "|[1.0,1.0,1.0,1.0,...|     1|\n",
            "|[0.0,0.0,0.0,5.0,...|     0|\n",
            "|(13,[1,2,8,9,10,1...|     0|\n",
            "|(13,[2,3,8,9,10,1...|     1|\n",
            "|[5.0,1.0,1.0,3.0,...|     0|\n",
            "|[0.0,0.0,0.0,3.0,...|     0|\n",
            "|(13,[2,3,8,9,10,1...|     1|\n",
            "|[0.0,1.0,1.0,2.0,...|     1|\n",
            "|[3.0,0.0,0.0,5.0,...|     0|\n",
            "|[0.0,0.0,1.0,3.0,...|     0|\n",
            "|[0.0,0.0,0.0,6.0,...|     0|\n",
            "|[0.0,1.0,1.0,10.0...|     1|\n",
            "|[0.0,0.0,0.0,5.0,...|     0|\n",
            "|[0.0,1.0,0.0,1.0,...|     0|\n",
            "|[0.0,1.0,1.0,1.0,...|     0|\n",
            "+--------------------+------+\n",
            "only showing top 20 rows\n",
            "\n"
          ]
        }
      ],
      "source": [
        "finalized_data.show()"
      ]
    },
    {
      "cell_type": "markdown",
      "metadata": {
        "id": "neAJch16OOgv"
      },
      "source": [
        "# Model training"
      ]
    },
    {
      "cell_type": "code",
      "execution_count": 33,
      "metadata": {
        "id": "pnKgblobOI9H"
      },
      "outputs": [],
      "source": [
        "# train and test split\n",
        "train, test = finalized_data.randomSplit([0.8, 0.2],seed=42)"
      ]
    },
    {
      "cell_type": "code",
      "execution_count": 34,
      "metadata": {
        "colab": {
          "base_uri": "https://localhost:8080/"
        },
        "id": "8URNKUdYlkqR",
        "outputId": "7a531d5f-9a76-44a9-c6a7-ffb03909a7f7"
      },
      "outputs": [
        {
          "name": "stdout",
          "output_type": "stream",
          "text": [
            "Train set count: 36229\n",
            "Test set count: 8993\n"
          ]
        }
      ],
      "source": [
        "print(f\"Train set count: {train.count()}\")\n",
        "print(f\"Test set count: {test.count()}\")"
      ]
    },
    {
      "cell_type": "markdown",
      "metadata": {
        "id": "_Amj9jqAb4q9"
      },
      "source": [
        "## 1st model - Random forest"
      ]
    },
    {
      "cell_type": "code",
      "execution_count": 35,
      "metadata": {
        "id": "9XYQ9T0ps-Zb"
      },
      "outputs": [],
      "source": [
        "# Define the Random Forest model\n",
        "rf = RandomForestClassifier(featuresCol='final_feature_vector', labelCol='income', maxBins=45)\n",
        "\n",
        "# Train the Random Forest model\n",
        "rf_model = rf.fit(train)\n",
        "\n",
        "# Make predictions\n",
        "rf_predictions = rf_model.transform(test)"
      ]
    },
    {
      "cell_type": "code",
      "execution_count": 36,
      "metadata": {
        "colab": {
          "base_uri": "https://localhost:8080/"
        },
        "id": "agUdYY6Rtz3f",
        "outputId": "26c3d485-ee82-4169-d9e5-f75ea0c1154a"
      },
      "outputs": [
        {
          "name": "stdout",
          "output_type": "stream",
          "text": [
            "Random Forest Model Accuracy: 0.8449905482041588\n",
            "Random Forest Model F1 Score: 0.8316527173567849\n"
          ]
        }
      ],
      "source": [
        "# Evaluate the model\n",
        "accuracy_evaluator = MulticlassClassificationEvaluator(labelCol='income',metricName=\"accuracy\")\n",
        "f1_evaluator = MulticlassClassificationEvaluator(labelCol='income',metricName='f1')\n",
        "rf_accuracy = accuracy_evaluator.evaluate(rf_predictions)\n",
        "rf_f1_score = f1_evaluator.evaluate(rf_predictions)\n",
        "\n",
        "print(f'Random Forest Model Accuracy: {rf_accuracy}')\n",
        "print(f'Random Forest Model F1 Score: {rf_f1_score}')"
      ]
    },
    {
      "cell_type": "code",
      "execution_count": 37,
      "metadata": {
        "colab": {
          "base_uri": "https://localhost:8080/"
        },
        "id": "Z1wPvgshv-mi",
        "outputId": "81a4da00-50f4-4914-e58f-32a055763633"
      },
      "outputs": [
        {
          "name": "stdout",
          "output_type": "stream",
          "text": [
            "+--------------------+------+--------------------+--------------------+----------+\n",
            "|final_feature_vector|income|       rawPrediction|         probability|prediction|\n",
            "+--------------------+------+--------------------+--------------------+----------+\n",
            "|(13,[0,2,8,9,10,1...|     1|[14.6175011604774...|[0.73087505802386...|       0.0|\n",
            "|(13,[0,2,8,9,10,1...|     0|[14.1748248766682...|[0.70874124383341...|       0.0|\n",
            "|(13,[0,2,8,9,10,1...|     0|[14.1748248766682...|[0.70874124383341...|       0.0|\n",
            "|(13,[0,2,8,9,10,1...|     1|[14.4662660484259...|[0.72331330242129...|       0.0|\n",
            "|(13,[0,2,8,9,10,1...|     0|[14.4662660484259...|[0.72331330242129...|       0.0|\n",
            "|(13,[0,2,8,9,10,1...|     0|[13.9162029566263...|[0.69581014783131...|       0.0|\n",
            "|(13,[0,2,8,9,10,1...|     0|[13.7371595649231...|[0.68685797824615...|       0.0|\n",
            "|(13,[0,2,8,9,10,1...|     0|[13.7371595649231...|[0.68685797824615...|       0.0|\n",
            "|(13,[0,2,8,9,10,1...|     0|[14.1743309810954...|[0.70871654905477...|       0.0|\n",
            "|(13,[0,2,8,9,10,1...|     1|[0.86875070300067...|[0.04343753515003...|       1.0|\n",
            "|(13,[0,2,8,9,10,1...|     0|[14.0297956637618...|[0.70148978318809...|       0.0|\n",
            "|(13,[0,2,8,9,10,1...|     1|[14.0297956637618...|[0.70148978318809...|       0.0|\n",
            "|(13,[0,2,8,9,10,1...|     0|[13.5663067176833...|[0.67831533588416...|       0.0|\n",
            "|(13,[0,2,8,9,10,1...|     0|[14.0297956637618...|[0.70148978318809...|       0.0|\n",
            "|(13,[0,2,8,9,10,1...|     1|[0.86875070300067...|[0.04343753515003...|       1.0|\n",
            "|(13,[0,2,8,9,10,1...|     1|[13.2647365075112...|[0.66323682537556...|       0.0|\n",
            "|(13,[0,2,8,9,10,1...|     0|[13.2647365075112...|[0.66323682537556...|       0.0|\n",
            "|(13,[0,2,8,9,10,1...|     0|[13.5597470495417...|[0.67798735247708...|       0.0|\n",
            "|(13,[0,2,8,9,10,1...|     1|[13.2647365075112...|[0.66323682537556...|       0.0|\n",
            "|(13,[0,2,8,9,10,1...|     1|[0.93588197080967...|[0.04679409854048...|       1.0|\n",
            "+--------------------+------+--------------------+--------------------+----------+\n",
            "only showing top 20 rows\n",
            "\n"
          ]
        }
      ],
      "source": [
        "# To view predictions\n",
        "rf_predictions.show()"
      ]
    },
    {
      "cell_type": "markdown",
      "metadata": {
        "id": "b2j5l43ib-Lk"
      },
      "source": [
        "## 2nd model - Logistic regression"
      ]
    },
    {
      "cell_type": "code",
      "execution_count": 38,
      "metadata": {
        "id": "0qlJi240RNxw"
      },
      "outputs": [
        {
          "name": "stderr",
          "output_type": "stream",
          "text": [
            "25/03/28 13:42:15 WARN InstanceBuilder: Failed to load implementation from:dev.ludovic.netlib.blas.JNIBLAS\n"
          ]
        }
      ],
      "source": [
        "# Define the Logistic Regression model\n",
        "lr = LogisticRegression(featuresCol='final_feature_vector', labelCol='income')\n",
        "\n",
        "# Train the Logistic Regression model\n",
        "lr_model = lr.fit(train)\n",
        "\n",
        "# Make predictions\n",
        "lr_predictions = lr_model.transform(test)"
      ]
    },
    {
      "cell_type": "code",
      "execution_count": 39,
      "metadata": {
        "colab": {
          "base_uri": "https://localhost:8080/"
        },
        "id": "GmYpltqw1L6o",
        "outputId": "df5e7557-3a08-4870-dc90-f4b77a94ccc5"
      },
      "outputs": [
        {
          "data": {
            "text/plain": [
              "LogisticRegressionModel: uid=LogisticRegression_443baeae0cee, numClasses=2, numFeatures=13"
            ]
          },
          "execution_count": 39,
          "metadata": {},
          "output_type": "execute_result"
        }
      ],
      "source": [
        "lr_model"
      ]
    },
    {
      "cell_type": "code",
      "execution_count": 40,
      "metadata": {
        "colab": {
          "base_uri": "https://localhost:8080/"
        },
        "id": "bmAYc0hXRquP",
        "outputId": "6df79924-2c3d-4756-e62a-bc01af5972f8"
      },
      "outputs": [
        {
          "name": "stdout",
          "output_type": "stream",
          "text": [
            "Logistic regression Model Accuracy: 0.8143000111197598\n",
            "Logistic regression Model F1 Score: 0.7970916663241656\n"
          ]
        }
      ],
      "source": [
        "# Evaluate the model\n",
        "accuracy_evaluator = MulticlassClassificationEvaluator(labelCol='income',metricName='accuracy')\n",
        "f1_evaluator = MulticlassClassificationEvaluator(labelCol='income',metricName='f1')\n",
        "lr_accuracy = accuracy_evaluator.evaluate(lr_predictions)\n",
        "lr_f1_score = f1_evaluator.evaluate(lr_predictions)\n",
        "\n",
        "print(f'Logistic regression Model Accuracy: {lr_accuracy}')\n",
        "print(f'Logistic regression Model F1 Score: {lr_f1_score}')"
      ]
    },
    {
      "cell_type": "markdown",
      "metadata": {
        "id": "nR2R0zEicDyp"
      },
      "source": [
        "## 3rd model - Gradient boosting model"
      ]
    },
    {
      "cell_type": "code",
      "execution_count": 41,
      "metadata": {
        "id": "B9ao-DseqS4K"
      },
      "outputs": [],
      "source": [
        "# Define GBTClassifier model\n",
        "gbt_classifier = GBTClassifier(\n",
        "    featuresCol=\"final_feature_vector\",  # The column containing your features\n",
        "    labelCol=\"income\",  # The column containing your target variable\n",
        "    maxDepth=5, # Maximum depth of each individual tree\n",
        "    maxIter=20, # Number of trees need to be created\n",
        "    stepSize=0.1, # Learning Rate\n",
        "    maxBins=45 # More bins, more detailed feature splitting\n",
        ")\n",
        "\n",
        "# Train the Gradient Boosting model\n",
        "gbt_model = gbt_classifier.fit(train)\n",
        "\n",
        "# Make predictions on the test set\n",
        "gbt_predictions = gbt_model.transform(test)"
      ]
    },
    {
      "cell_type": "code",
      "execution_count": 42,
      "metadata": {
        "colab": {
          "base_uri": "https://localhost:8080/"
        },
        "id": "zcf24tIlbb_l",
        "outputId": "c68b3223-fc47-40a7-e8b5-1d4ffa7ce070"
      },
      "outputs": [
        {
          "data": {
            "text/plain": [
              "GBTClassificationModel: uid = GBTClassifier_6d3959270c8a, numTrees=20, numClasses=2, numFeatures=13"
            ]
          },
          "execution_count": 42,
          "metadata": {},
          "output_type": "execute_result"
        }
      ],
      "source": [
        "gbt_model"
      ]
    },
    {
      "cell_type": "code",
      "execution_count": 43,
      "metadata": {
        "colab": {
          "base_uri": "https://localhost:8080/"
        },
        "id": "lVIEzUwSre8b",
        "outputId": "a0f311cd-5a37-4d39-8da1-c1ecaf0cfde6"
      },
      "outputs": [
        {
          "name": "stdout",
          "output_type": "stream",
          "text": [
            "Gradient boosting model Accuracy: 0.8607806071388858\n",
            "Gradient boosting model F1 Score: 0.8540239408733326\n"
          ]
        }
      ],
      "source": [
        "# Evaluate the model\n",
        "accuracy_evaluator = MulticlassClassificationEvaluator(labelCol='income',metricName='accuracy')\n",
        "f1_evaluator = MulticlassClassificationEvaluator(labelCol='income',metricName='f1')\n",
        "gbt_accuracy = accuracy_evaluator.evaluate(gbt_predictions)\n",
        "gbt_f1_score = f1_evaluator.evaluate(gbt_predictions)\n",
        "\n",
        "print(f'Gradient boosting model Accuracy: {gbt_accuracy}')\n",
        "print(f'Gradient boosting model F1 Score: {gbt_f1_score}')"
      ]
    },
    {
      "cell_type": "markdown",
      "metadata": {
        "id": "V7RiIvM8cJ9t"
      },
      "source": [
        "## 4th model - Linear support vector machine"
      ]
    },
    {
      "cell_type": "code",
      "execution_count": 44,
      "metadata": {
        "id": "Heb7AYmLbJ6M"
      },
      "outputs": [],
      "source": [
        "# Define the SVM model using LinearSVC\n",
        "svm = LinearSVC(featuresCol='final_feature_vector', labelCol='income')\n",
        "\n",
        "# Train the SVM model\n",
        "svm_model = svm.fit(train)\n",
        "\n",
        "# Make predictions on the test set\n",
        "svm_predictions = svm_model.transform(test)"
      ]
    },
    {
      "cell_type": "code",
      "execution_count": 45,
      "metadata": {
        "colab": {
          "base_uri": "https://localhost:8080/"
        },
        "id": "qlfwJRylbuEU",
        "outputId": "cbf2dfd8-aa7f-4b67-abb7-eabffab7c907"
      },
      "outputs": [
        {
          "data": {
            "text/plain": [
              "LinearSVCModel: uid=LinearSVC_6e4cd52666a4, numClasses=2, numFeatures=13"
            ]
          },
          "execution_count": 45,
          "metadata": {},
          "output_type": "execute_result"
        }
      ],
      "source": [
        "svm_model"
      ]
    },
    {
      "cell_type": "code",
      "execution_count": 46,
      "metadata": {
        "colab": {
          "base_uri": "https://localhost:8080/"
        },
        "id": "zSUA83pNzePP",
        "outputId": "f4dffa68-9e37-4fc1-a1dd-df3b88db3073"
      },
      "outputs": [
        {
          "name": "stdout",
          "output_type": "stream",
          "text": [
            "Linear support vector machine model Accuracy: 0.8036250416990993\n",
            "Linear support vector machine F1 Score: 0.7681654769276633\n"
          ]
        }
      ],
      "source": [
        "# Evaluate the model\n",
        "accuracy_evaluator = MulticlassClassificationEvaluator(labelCol='income',metricName='accuracy')\n",
        "f1_evaluator = MulticlassClassificationEvaluator(labelCol='income',metricName='f1')\n",
        "svm_accuracy = accuracy_evaluator.evaluate(svm_predictions)\n",
        "svm_f1_score = f1_evaluator.evaluate(svm_predictions)\n",
        "\n",
        "print(f'Linear support vector machine model Accuracy: {svm_accuracy}')\n",
        "print(f'Linear support vector machine F1 Score: {svm_f1_score}')"
      ]
    },
    {
      "cell_type": "markdown",
      "metadata": {
        "id": "JLmFUkmQ8N42"
      },
      "source": [
        "# Compare all 4 models"
      ]
    },
    {
      "cell_type": "code",
      "execution_count": 47,
      "metadata": {
        "colab": {
          "base_uri": "https://localhost:8080/"
        },
        "id": "aov_wp8A8AqO",
        "outputId": "98442414-f39b-4645-d923-367e0f6d31d1"
      },
      "outputs": [
        {
          "name": "stdout",
          "output_type": "stream",
          "text": [
            "\n",
            "Model Performance Comparison:\n",
            "              Model Accuracy F1 Score\n",
            "      Random Forest   84.50%   83.17%\n",
            "Logistic Regression   81.43%   79.71%\n",
            "  Gradient Boosting   86.08%   85.40%\n",
            "         Linear SVM   80.36%   76.82%\n"
          ]
        }
      ],
      "source": [
        "# Collect metrics for all models\n",
        "results = [\n",
        "    (\"Random Forest\", rf_accuracy, rf_f1_score),\n",
        "    (\"Logistic Regression\", lr_accuracy, lr_f1_score),\n",
        "    (\"Gradient Boosting\", gbt_accuracy, gbt_f1_score),\n",
        "    (\"Linear SVM\", svm_accuracy, svm_f1_score)\n",
        "]\n",
        "\n",
        "# Create a pandas DataFrame for visualization\n",
        "metrics_df = pd.DataFrame(results, columns=[\"Model\", \"Accuracy\", \"F1 Score\"])\n",
        "\n",
        "# Format for better readability\n",
        "metrics_df[\"Accuracy\"] = metrics_df[\"Accuracy\"].map(\"{:.2%}\".format)\n",
        "metrics_df[\"F1 Score\"] = metrics_df[\"F1 Score\"].map(\"{:.2%}\".format)\n",
        "\n",
        "# Display\n",
        "print(\"\\nModel Performance Comparison:\")\n",
        "print(metrics_df.to_string(index=False))"
      ]
    }
  ],
  "metadata": {
    "colab": {
      "collapsed_sections": [
        "2IyLhAcjvvZ9",
        "COR0dXAmv1gx",
        "EkeEkhL1v5Ox",
        "w_JRgTan0cTy",
        "_Amj9jqAb4q9",
        "b2j5l43ib-Lk",
        "nR2R0zEicDyp",
        "V7RiIvM8cJ9t",
        "JLmFUkmQ8N42"
      ],
      "provenance": []
    },
    "kernelspec": {
      "display_name": "base",
      "language": "python",
      "name": "python3"
    },
    "language_info": {
      "codemirror_mode": {
        "name": "ipython",
        "version": 3
      },
      "file_extension": ".py",
      "mimetype": "text/x-python",
      "name": "python",
      "nbconvert_exporter": "python",
      "pygments_lexer": "ipython3",
      "version": "3.12.7"
    }
  },
  "nbformat": 4,
  "nbformat_minor": 0
}
